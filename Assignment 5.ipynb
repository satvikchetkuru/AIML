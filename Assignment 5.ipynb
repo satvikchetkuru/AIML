{
 "cells": [
  {
   "cell_type": "markdown",
   "metadata": {},
   "source": [
    "# CSE-221710307016-SATVIK CHETKURU"
   ]
  },
  {
   "cell_type": "code",
   "execution_count": 1,
   "metadata": {},
   "outputs": [],
   "source": [
    "#passcode\n",
    "def p():\n",
    "    import random\n",
    "    list1=['sky','water','land','air','rain','wind','thunder','storm','drizzle','Heat']\n",
    "    list2=['small','high','huge','nasty','heavy','fast','thunderous','crazy','light','damage']\n",
    "    list3=['@','!','$','#','?','.',';',':','&','/']\n",
    "    password=random.choice(list1)+random.choice(list2)+random.choice(list3)+str(random.randint(1,10))\n",
    "    print('Your new password is ',password)\n",
    "    s=input('want another password ')\n",
    "    if s=='yes':\n",
    "        p()\n",
    "    else:\n",
    "        print('your permanent password is ',password)"
   ]
  },
  {
   "cell_type": "code",
   "execution_count": 2,
   "metadata": {},
   "outputs": [
    {
     "name": "stdout",
     "output_type": "stream",
     "text": [
      "Your new password is  skyheavy@9\n",
      "want another password yes\n",
      "Your new password is  thunderheavy!7\n",
      "want another password yes\n",
      "Your new password is  airdamage;10\n",
      "want another password yes\n",
      "Your new password is  skyheavy&6\n",
      "want another password no\n",
      "your permanent password is  skyheavy&6\n"
     ]
    }
   ],
   "source": [
    "p()"
   ]
  },
  {
   "cell_type": "code",
   "execution_count": null,
   "metadata": {},
   "outputs": [],
   "source": []
  }
 ],
 "metadata": {
  "kernelspec": {
   "display_name": "Python 3",
   "language": "python",
   "name": "python3"
  },
  "language_info": {
   "codemirror_mode": {
    "name": "ipython",
    "version": 3
   },
   "file_extension": ".py",
   "mimetype": "text/x-python",
   "name": "python",
   "nbconvert_exporter": "python",
   "pygments_lexer": "ipython3",
   "version": "3.7.6"
  }
 },
 "nbformat": 4,
 "nbformat_minor": 4
}
