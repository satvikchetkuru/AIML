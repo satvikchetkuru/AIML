{
 "cells": [
  {
   "cell_type": "markdown",
   "metadata": {},
   "source": [
    "# CSE-221710307016-SATVIK CHETKURU"
   ]
  },
  {
   "cell_type": "code",
   "execution_count": 4,
   "metadata": {},
   "outputs": [],
   "source": [
    "#problem 1(factorial with recursion)\n",
    "def fun(n):\n",
    "    if n==1:\n",
    "        return n\n",
    "    else:\n",
    "        return n*fun(n-1)"
   ]
  },
  {
   "cell_type": "code",
   "execution_count": 5,
   "metadata": {},
   "outputs": [
    {
     "data": {
      "text/plain": [
       "120"
      ]
     },
     "execution_count": 5,
     "metadata": {},
     "output_type": "execute_result"
    }
   ],
   "source": [
    "fun(5)"
   ]
  },
  {
   "cell_type": "code",
   "execution_count": 6,
   "metadata": {},
   "outputs": [
    {
     "name": "stdout",
     "output_type": "stream",
     "text": [
      "0\n",
      "1\n",
      "1\n",
      "2\n",
      "3\n",
      "5\n",
      "8\n",
      "13\n",
      "21\n",
      "34\n"
     ]
    }
   ],
   "source": [
    "#problem 2(fibonacci series with recursion)\n",
    "def fib(n):\n",
    "    if n<=1:\n",
    "        return n\n",
    "    else:\n",
    "        return (fib(n-1) + fib(n-2))\n",
    "a=10\n",
    "for i in range(a):\n",
    "        print(fib(i))"
   ]
  },
  {
   "cell_type": "code",
   "execution_count": 7,
   "metadata": {},
   "outputs": [
    {
     "name": "stdout",
     "output_type": "stream",
     "text": [
      "6\n"
     ]
    }
   ],
   "source": [
    "#problem3 (sum of elements of list)\n",
    "li1=[1,2,3]\n",
    "count=0\n",
    "for i in li1:\n",
    "    count=count+i\n",
    "print(count)"
   ]
  },
  {
   "cell_type": "code",
   "execution_count": 8,
   "metadata": {},
   "outputs": [
    {
     "name": "stdout",
     "output_type": "stream",
     "text": [
      "2\n",
      "4\n",
      "6\n"
     ]
    }
   ],
   "source": [
    "#problem4 (even numbers from list)\n",
    "li1=[1,2,3,4,5,6]\n",
    "for i in li1:\n",
    "    if i%2==0:\n",
    "        print(i)\n",
    "    else:\n",
    "        pass"
   ]
  },
  {
   "cell_type": "code",
   "execution_count": 9,
   "metadata": {},
   "outputs": [
    {
     "name": "stdout",
     "output_type": "stream",
     "text": [
      "5 [1]\n"
     ]
    }
   ],
   "source": [
    "#problem5 (display smallest number and index of smallest number)\n",
    "li1=[10,5,30]\n",
    "a= min(li1)\n",
    "r=[]\n",
    "for i in range(0,len(li1)):\n",
    "    if a==li1[i]:\n",
    "        r.append(i)\n",
    "print(a,r)"
   ]
  },
  {
   "cell_type": "code",
   "execution_count": 10,
   "metadata": {},
   "outputs": [],
   "source": [
    "#problem6 (passed string is palindrome or not)\n",
    "def palin(n):\n",
    "    if str(n)==str(n)[::-1]:\n",
    "        print('is a palindrome')\n",
    "    else:\n",
    "        print('Not a palindrome')"
   ]
  },
  {
   "cell_type": "code",
   "execution_count": 11,
   "metadata": {},
   "outputs": [
    {
     "name": "stdout",
     "output_type": "stream",
     "text": [
      "is a palindrome\n"
     ]
    }
   ],
   "source": [
    "palin('madam')\n"
   ]
  },
  {
   "cell_type": "code",
   "execution_count": 12,
   "metadata": {},
   "outputs": [
    {
     "name": "stdout",
     "output_type": "stream",
     "text": [
      "4 5\n"
     ]
    }
   ],
   "source": [
    "#problem7 (count no of even and odd)\n",
    "li=[1,2,3,4,5,6,7,8,9]\n",
    "count1=0\n",
    "count2=0\n",
    "for i in li:\n",
    "    if i%2==0:\n",
    "        count1+=1\n",
    "    else:\n",
    "        count2+=1\n",
    "print(count1,count2)"
   ]
  },
  {
   "cell_type": "code",
   "execution_count": 13,
   "metadata": {},
   "outputs": [
    {
     "name": "stdout",
     "output_type": "stream",
     "text": [
      "0\n",
      "1\n",
      "2\n",
      "4\n",
      "5\n"
     ]
    }
   ],
   "source": [
    "\n",
    "#problem8 (print all numbers from 0-6 except 3 and 6)\n",
    "for i in range(0,7):\n",
    "    if i==3 or i==6:\n",
    "        continue\n",
    "    else:\n",
    "        print(i)"
   ]
  },
  {
   "cell_type": "code",
   "execution_count": 14,
   "metadata": {},
   "outputs": [
    {
     "name": "stdout",
     "output_type": "stream",
     "text": [
      "False\n",
      "True\n"
     ]
    }
   ],
   "source": [
    "\n",
    "#problem9 (prime or not)\n",
    "def fun(n):\n",
    "    if n<=1 or n%1>0:\n",
    "        return False\n",
    "    for i in range(2,n//2):\n",
    "        if n%i==0:\n",
    "            return False\n",
    "    return True\n",
    "print(fun(9))\n",
    "print(fun(3))"
   ]
  },
  {
   "cell_type": "code",
   "execution_count": 15,
   "metadata": {},
   "outputs": [
    {
     "name": "stdout",
     "output_type": "stream",
     "text": [
      "enter16\n",
      "256 652\n",
      "Adam Number\n"
     ]
    }
   ],
   "source": [
    "#problem10 (Adam number)\n",
    "n=int(input('enter'))\n",
    "c=n*n\n",
    "d=str(c)[::-1]\n",
    "e=int(d)\n",
    "print(c,e)\n",
    "if str(c)==str(e)[::-1]:\n",
    "    print('Adam Number')\n",
    "else:\n",
    "    print('Not an adam number')"
   ]
  },
  {
   "cell_type": "code",
   "execution_count": null,
   "metadata": {},
   "outputs": [],
   "source": []
  }
 ],
 "metadata": {
  "kernelspec": {
   "display_name": "Python 3",
   "language": "python",
   "name": "python3"
  },
  "language_info": {
   "codemirror_mode": {
    "name": "ipython",
    "version": 3
   },
   "file_extension": ".py",
   "mimetype": "text/x-python",
   "name": "python",
   "nbconvert_exporter": "python",
   "pygments_lexer": "ipython3",
   "version": "3.7.6"
  }
 },
 "nbformat": 4,
 "nbformat_minor": 4
}
